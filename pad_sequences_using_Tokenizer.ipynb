{
 "cells": [
  {
   "cell_type": "code",
   "execution_count": 4,
   "metadata": {},
   "outputs": [],
   "source": [
    "from tensorflow.keras.preprocessing.text import Tokenizer\n",
    "from tensorflow.keras.preprocessing.sequence import pad_sequences"
   ]
  },
  {
   "cell_type": "code",
   "execution_count": 7,
   "metadata": {},
   "outputs": [],
   "source": [
    "sentences = [ 'I love my Dog' , \n",
    "              'i love my Cat' , \n",
    "              'You love my Dog' , \n",
    "              'Do yo really think my Dog is amazing']\n",
    "tokenizer = Tokenizer(num_words = 100 , oov_token = 'OOV')\n",
    "tokenizer.fit_on_texts(sentences)\n",
    "sequences = tokenizer.texts_to_sequences(sentences)\n",
    "padded_sequences = pad_sequences(sequences)    ### adds padding for identical shapes"
   ]
  },
  {
   "cell_type": "code",
   "execution_count": 8,
   "metadata": {},
   "outputs": [
    {
     "name": "stdout",
     "output_type": "stream",
     "text": [
      "[[ 0  0  0  0  5  3  2  4]\n",
      " [ 0  0  0  0  5  3  2  6]\n",
      " [ 0  0  0  0  7  3  2  4]\n",
      " [ 8  9 10 11  2  4 12 13]]\n"
     ]
    }
   ],
   "source": [
    "print(padded_sequences)"
   ]
  },
  {
   "cell_type": "code",
   "execution_count": 9,
   "metadata": {},
   "outputs": [
    {
     "name": "stdout",
     "output_type": "stream",
     "text": [
      "{'OOV': 1, 'my': 2, 'love': 3, 'dog': 4, 'i': 5, 'cat': 6, 'you': 7, 'do': 8, 'yo': 9, 'really': 10, 'think': 11, 'is': 12, 'amazing': 13}\n"
     ]
    }
   ],
   "source": [
    "print(tokenizer.word_index)"
   ]
  },
  {
   "cell_type": "code",
   "execution_count": 15,
   "metadata": {},
   "outputs": [],
   "source": [
    "### the default for padding in pre means the zeroes are added on the begining of sequences however youcould change it \n",
    "##to post such that the zeroes are added to the post of sequences\n",
    "### you could also use maxlen argument with truncate argument\n",
    "## which allows you to choose whether from starting or end you want to loose data"
   ]
  },
  {
   "cell_type": "code",
   "execution_count": 13,
   "metadata": {},
   "outputs": [
    {
     "name": "stdout",
     "output_type": "stream",
     "text": [
      "[[ 5  3  2  4  0  0  0  0]\n",
      " [ 5  3  2  6  0  0  0  0]\n",
      " [ 7  3  2  4  0  0  0  0]\n",
      " [ 8  9 10 11  2  4 12 13]]\n"
     ]
    }
   ],
   "source": [
    "print(pad_sequences(sequences , padding = \"post\"))"
   ]
  },
  {
   "cell_type": "code",
   "execution_count": 16,
   "metadata": {},
   "outputs": [
    {
     "name": "stdout",
     "output_type": "stream",
     "text": [
      "[[ 0  5  3  2  4]\n",
      " [ 0  5  3  2  6]\n",
      " [ 0  7  3  2  4]\n",
      " [11  2  4 12 13]]\n"
     ]
    }
   ],
   "source": [
    "print(pad_sequences(sequences , maxlen = 5))"
   ]
  },
  {
   "cell_type": "code",
   "execution_count": 18,
   "metadata": {},
   "outputs": [
    {
     "name": "stdout",
     "output_type": "stream",
     "text": [
      "[[ 0  5  3  2  4]\n",
      " [ 0  5  3  2  6]\n",
      " [ 0  7  3  2  4]\n",
      " [ 8  9 10 11  2]]\n"
     ]
    }
   ],
   "source": [
    "print(pad_sequences(sequences , maxlen = 5 , truncating = \"post\"))"
   ]
  },
  {
   "cell_type": "code",
   "execution_count": 21,
   "metadata": {},
   "outputs": [
    {
     "name": "stdout",
     "output_type": "stream",
     "text": [
      "[[ 0  0  0  0  0  5 10  3  2  4]\n",
      " [ 0  0  0  0  0  2  4  1  2  1]]\n"
     ]
    }
   ],
   "source": [
    "test_sentences = [\"I really love my Dog\" , \n",
    "                 'my dog loves my manatee']\n",
    "sequences = tokenizer.texts_to_sequences(test_sentences)\n",
    "padded_sequences = pad_sequences(sequences ,maxlen = 10)\n",
    "print(padded_sequences)"
   ]
  },
  {
   "cell_type": "code",
   "execution_count": null,
   "metadata": {},
   "outputs": [],
   "source": []
  }
 ],
 "metadata": {
  "kernelspec": {
   "display_name": "Python 3",
   "language": "python",
   "name": "python3"
  },
  "language_info": {
   "codemirror_mode": {
    "name": "ipython",
    "version": 3
   },
   "file_extension": ".py",
   "mimetype": "text/x-python",
   "name": "python",
   "nbconvert_exporter": "python",
   "pygments_lexer": "ipython3",
   "version": "3.8.5"
  }
 },
 "nbformat": 4,
 "nbformat_minor": 4
}
